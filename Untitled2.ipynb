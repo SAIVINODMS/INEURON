{
 "cells": [
  {
   "cell_type": "code",
   "execution_count": 2,
   "metadata": {},
   "outputs": [],
   "source": [
    "import csv\n",
    "import nltk\n",
    "from collections import Counter\n",
    "fo = open(\"Chapter3_BG.txt\")\n",
    "fo1 = fo.readlines()\n",
    "counter_sum = Counter()\n",
    "for line in fo1:\n",
    "       tokens = nltk.word_tokenize(line)\n",
    "       bigrams = list(nltk.bigrams(line.split()))\n",
    "       bigramsC = Counter(bigrams)\n",
    "       tokensC = Counter(tokens)\n",
    "       both_counters = bigramsC + tokensC\n",
    "       counter_sum += both_counters\n",
    "       # This basically collects the whole 'population' of words and bigrams in your document\n",
    "\n",
    "# now that we have the population can write a csv\n",
    "\n",
    "with open('Chapter3_BG.csv', 'w', newline='') as csvfile:\n",
    "    header = sorted(counter_sum, key=lambda x: str(type(x)))\n",
    "    writer = csv.DictWriter(csvfile, fieldnames=header)\n",
    "    writer.writeheader()\n",
    "    for line in fo1:\n",
    "          tokens = nltk.word_tokenize(line)\n",
    "          bigrams = list(nltk.bigrams(line.split()))\n",
    "          bigramsC = Counter(bigrams)\n",
    "          tokensC = Counter(tokens)\n",
    "          both_counters = bigramsC + tokensC\n",
    "          cs = dict(counter_sum)\n",
    "          bc = dict(both_counters)\n",
    "          row = {}\n",
    "          for element in list(cs):\n",
    "                if element in list(bc):\n",
    "                  row[element] = bc[element]\n",
    "                else:\n",
    "                  row[element] = 0\n",
    "          writer.writerow(row)"
   ]
  },
  {
   "cell_type": "code",
   "execution_count": 1,
   "metadata": {},
   "outputs": [
    {
     "name": "stdout",
     "output_type": "stream",
     "text": [
      "ï»¿ANNEXURE â€˜Câ€™ TO DIRECTORSâ€™ REPORTAnnual Report on Corporate Social Responsibility (CSR) â€“ FY 2018-191 A brief outline of the Companyâ€™s CSR Policy including overview ofprojects or programs proposed to be undertaken and a reference tothe weblink to the CSR policy and projects or programsPursuant to Section 135 of the Companies Act, 2013, the CorporateSocial Responsibility Committee of the Board had approved aCSR Policy with primary focus on Education, Healthcare, WomenEmpowerment and Sports. Besides these focus areas the Companyshall also undertake any other CSR activities listed in Schedule VII of theCompanies Act, 2013.The CSR Policy of the Company can be viewed on www.zeeentertainment.com2 The Composition of the CSR Committee The CSR Committee of the Board comprises of 3 Directors. Mr SubodhKumar, Non-Executive Director is the Chairman of the Committee whileProf Sunil Sharma, Independent Director & Mr Punit Goenka, ManagingDirector & CEO are its Members3 Average net profit of the Company for last three financial years ` 19,856.33 Million4 Prescribed CSR expenditure (two percent of the average net profitsfor last three years)` 397.13 Million5 Details of CSR spent during FYa) Amount to be spent in FY 2019 including unspent amount forFY 2018b) Amount spentc) Unspent amountd) Areas where spent` 621.78 Million` 226.97 Million` 394.81 MillionAs detailed herein( ` MILLIONS)WWW.CAPITALINE.COMPAGE NO. :42-100 PAGE NO. :101-214STATUTORY REPORTS FINANCIAL STATEMENTSPAGE NO. :01-40CORPORATE OVERVIEW71Contribution toHindu Spiritual &Service Foundationset up with objectinter alia ofeducating peopleabout importance offorest and ecologyfor sustainableenvironmentEnvironmentsustainability,ecological balanceetcChennai 1.25 1.25 224.87 DirectContribution toAnnapurna KashiVishwanathCharitable TrustProtection oftraditional arts andcultureVaranasi 1.60 1.60 226.47 DirectContribution toAmmada Trustfor GiveHer5Campaign, asocial initiative tobring safe sanitarysolutions to womenin rural IndiaEmpoweringWomen andpromotingsanitationAcross rural India 0.50 0.50 226.97 DirectTotal 229.97 226.97 226.976 Reason for not spending entire CSR amount The CSR budget remained unspent partly due to non-availability ofsuitable CSR projects during the year and most of the monies spentrepresent the payments made for the long term projects approvedduring FY 2017-18. The unspent amount is being carried forward forfunding suitable CSR projects in future.The CSR committee hereby certifies that the implementation and monitoring of the CSR Policy is in compliance with the CSR objectives and Policy of the Company.Subodh KumarNon-Executive DirectorPunit GoenkaManaging Director and CEOPlace : MumbaiDate : May 23, 2019CSR Projects orActivities IdentifiedSector in which theproject is CoveredProjects orPrograms Localarea or other,specify the Stateand districtwhere projectsor programs wasundertakenAmount outlay(budget) project orprograms wiseAmount spent onthe projects orprogramsCumulativeexpenditure uptothe reportingperiodAmount spentDirect or throughimplementingAgency( ` MILLIONS)WWW.CAPITALINE.COM\n"
     ]
    },
    {
     "ename": "NameError",
     "evalue": "name 'stopwords' is not defined",
     "output_type": "error",
     "traceback": [
      "\u001b[1;31m---------------------------------------------------------------------------\u001b[0m",
      "\u001b[1;31mNameError\u001b[0m                                 Traceback (most recent call last)",
      "\u001b[1;32m<ipython-input-1-e38c7522e3c6>\u001b[0m in \u001b[0;36m<module>\u001b[1;34m\u001b[0m\n\u001b[0;32m     11\u001b[0m \u001b[1;33m\u001b[0m\u001b[0m\n\u001b[0;32m     12\u001b[0m \u001b[0mtokens\u001b[0m \u001b[1;33m=\u001b[0m \u001b[0mhugeNumberAsStr\u001b[0m\u001b[1;33m.\u001b[0m\u001b[0msplit\u001b[0m\u001b[1;33m(\u001b[0m\u001b[1;33m)\u001b[0m\u001b[1;33m\u001b[0m\u001b[1;33m\u001b[0m\u001b[0m\n\u001b[1;32m---> 13\u001b[1;33m \u001b[0mstop_words\u001b[0m \u001b[1;33m=\u001b[0m \u001b[0mset\u001b[0m\u001b[1;33m(\u001b[0m\u001b[0mstopwords\u001b[0m\u001b[1;33m.\u001b[0m\u001b[0mwords\u001b[0m\u001b[1;33m(\u001b[0m\u001b[1;34m\"english\"\u001b[0m\u001b[1;33m)\u001b[0m\u001b[1;33m)\u001b[0m\u001b[1;33m\u001b[0m\u001b[1;33m\u001b[0m\u001b[0m\n\u001b[0m\u001b[0;32m     14\u001b[0m \u001b[0mnew_stopwords\u001b[0m \u001b[1;33m=\u001b[0m \u001b[1;33m[\u001b[0m\u001b[1;34m'CAPITALINE'\u001b[0m\u001b[1;33m,\u001b[0m\u001b[1;34m'COM'\u001b[0m\u001b[1;33m,\u001b[0m\u001b[1;34m'Annual'\u001b[0m\u001b[1;33m,\u001b[0m\u001b[1;34m'Report'\u001b[0m\u001b[1;33m,\u001b[0m\u001b[1;34m'WWW.CAPITALINE.COM'\u001b[0m\u001b[1;33m]\u001b[0m\u001b[1;33m\u001b[0m\u001b[1;33m\u001b[0m\u001b[0m\n\u001b[0;32m     15\u001b[0m \u001b[1;31m#add words that aren't in the NLTK stopwords list\u001b[0m\u001b[1;33m\u001b[0m\u001b[1;33m\u001b[0m\u001b[1;33m\u001b[0m\u001b[0m\n",
      "\u001b[1;31mNameError\u001b[0m: name 'stopwords' is not defined"
     ]
    }
   ],
   "source": [
    "import string\n",
    "import nltk\n",
    "import string\n",
    "from nltk.collocations import *\n",
    "from nltk.tokenize import RegexpTokenizer\n",
    "\n",
    "hugeNumberAsStr = open('ZEE_3126-19_CSR.txt').read()\n",
    "hugeNumberAsStr = hugeNumberAsStr.strip().replace('\\n', '')\n",
    "\n",
    "print (hugeNumberAsStr)\n",
    "\n",
    "tokens = hugeNumberAsStr.split()\n",
    "stop_words = set(stopwords.words(\"english\"))\n",
    "new_stopwords = ['CAPITALINE','COM','Annual','Report','WWW.CAPITALINE.COM']\n",
    "#add words that aren't in the NLTK stopwords list\n",
    "new_stopwords_list = stop_words.union(new_stopwords)\n",
    "\n",
    "for i in range(len(tokens)):\n",
    "    words = nltk.word_tokenize(tokens[i])\n",
    "    words=[word.lower() for word in words if word.isalnum() for word in words if word.isalpha()]\n",
    "    words = [lemmatizer.lemmatize(word) for word in words if word not in set(new_stopwords_list)]\n",
    "    tokens[i] = ' '.join(words)"
   ]
  }
 ],
 "metadata": {
  "kernelspec": {
   "display_name": "Python 3",
   "language": "python",
   "name": "python3"
  },
  "language_info": {
   "codemirror_mode": {
    "name": "ipython",
    "version": 3
   },
   "file_extension": ".py",
   "mimetype": "text/x-python",
   "name": "python",
   "nbconvert_exporter": "python",
   "pygments_lexer": "ipython3",
   "version": "3.7.1"
  }
 },
 "nbformat": 4,
 "nbformat_minor": 2
}
